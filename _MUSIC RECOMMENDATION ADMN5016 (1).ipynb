{
 "cells": [
  {
   "cell_type": "markdown",
   "id": "73e92049",
   "metadata": {},
   "source": [
    "# ADMN5016 - FINAL PROJECT  "
   ]
  },
  {
   "cell_type": "markdown",
   "id": "29875b5b",
   "metadata": {},
   "source": [
    "# Music Recommendation System "
   ]
  },
  {
   "cell_type": "markdown",
   "id": "ce8af448",
   "metadata": {},
   "source": [
    "#### In this project I have used a dataset containing 195 songs. It is mainly French Rap , American rap , rock or electro music, classical songs and disco songs, which I collected from Kaggle.com. Here, I am trying to create a music recommender system where the music provider can predict and then offer the appropriate songs to their users based on the characterstics of the music that has been previously heard or according to the like and dislikes of music. If a new company adapts this system, then the company will be able to provide best possible experience for the users, a good user experience will eventually lead to more sales and more profit. "
   ]
  },
  {
   "cell_type": "code",
   "execution_count": 1,
   "id": "6d3fa7cd",
   "metadata": {},
   "outputs": [],
   "source": [
    "import os"
   ]
  },
  {
   "cell_type": "code",
   "execution_count": 2,
   "id": "d8e9ad85",
   "metadata": {},
   "outputs": [],
   "source": [
    "for dirname, _, filenames in os.walk('/kaggle/input'):\n",
    "    for filename in filenames:\n",
    "          print(os.path.join(dirname, 'data.csv'))"
   ]
  },
  {
   "cell_type": "code",
   "execution_count": 3,
   "id": "cecb86ca",
   "metadata": {},
   "outputs": [],
   "source": [
    "import numpy as np\n",
    "import pandas as pd \n",
    "import matplotlib.pyplot as plt \n",
    "import seaborn as sns \n",
    "import warnings \n",
    "warnings.filterwarnings('ignore')\n",
    "\n",
    "%matplotlib inline "
   ]
  },
  {
   "cell_type": "markdown",
   "id": "5627db6c",
   "metadata": {},
   "source": [
    "### Importing the dataset"
   ]
  },
  {
   "cell_type": "code",
   "execution_count": 4,
   "id": "c7c26ecd",
   "metadata": {},
   "outputs": [],
   "source": [
    "MUSIC_df = pd.read_csv(\"data.csv\")"
   ]
  },
  {
   "cell_type": "code",
   "execution_count": 5,
   "id": "3b8904ff",
   "metadata": {},
   "outputs": [
    {
     "data": {
      "text/html": [
       "<div>\n",
       "<style scoped>\n",
       "    .dataframe tbody tr th:only-of-type {\n",
       "        vertical-align: middle;\n",
       "    }\n",
       "\n",
       "    .dataframe tbody tr th {\n",
       "        vertical-align: top;\n",
       "    }\n",
       "\n",
       "    .dataframe thead th {\n",
       "        text-align: right;\n",
       "    }\n",
       "</style>\n",
       "<table border=\"1\" class=\"dataframe\">\n",
       "  <thead>\n",
       "    <tr style=\"text-align: right;\">\n",
       "      <th></th>\n",
       "      <th>danceability</th>\n",
       "      <th>energy</th>\n",
       "      <th>key</th>\n",
       "      <th>loudness</th>\n",
       "      <th>mode</th>\n",
       "      <th>speechiness</th>\n",
       "      <th>acousticness</th>\n",
       "      <th>instrumentalness</th>\n",
       "      <th>liveness</th>\n",
       "      <th>valence</th>\n",
       "      <th>tempo</th>\n",
       "      <th>duration_ms</th>\n",
       "      <th>time_signature</th>\n",
       "      <th>liked</th>\n",
       "    </tr>\n",
       "  </thead>\n",
       "  <tbody>\n",
       "    <tr>\n",
       "      <th>0</th>\n",
       "      <td>0.803</td>\n",
       "      <td>0.6240</td>\n",
       "      <td>7</td>\n",
       "      <td>-6.764</td>\n",
       "      <td>0</td>\n",
       "      <td>0.0477</td>\n",
       "      <td>0.451</td>\n",
       "      <td>0.000734</td>\n",
       "      <td>0.1000</td>\n",
       "      <td>0.6280</td>\n",
       "      <td>95.968</td>\n",
       "      <td>304524</td>\n",
       "      <td>4</td>\n",
       "      <td>0</td>\n",
       "    </tr>\n",
       "    <tr>\n",
       "      <th>1</th>\n",
       "      <td>0.762</td>\n",
       "      <td>0.7030</td>\n",
       "      <td>10</td>\n",
       "      <td>-7.951</td>\n",
       "      <td>0</td>\n",
       "      <td>0.3060</td>\n",
       "      <td>0.206</td>\n",
       "      <td>0.000000</td>\n",
       "      <td>0.0912</td>\n",
       "      <td>0.5190</td>\n",
       "      <td>151.329</td>\n",
       "      <td>247178</td>\n",
       "      <td>4</td>\n",
       "      <td>1</td>\n",
       "    </tr>\n",
       "    <tr>\n",
       "      <th>2</th>\n",
       "      <td>0.261</td>\n",
       "      <td>0.0149</td>\n",
       "      <td>1</td>\n",
       "      <td>-27.528</td>\n",
       "      <td>1</td>\n",
       "      <td>0.0419</td>\n",
       "      <td>0.992</td>\n",
       "      <td>0.897000</td>\n",
       "      <td>0.1020</td>\n",
       "      <td>0.0382</td>\n",
       "      <td>75.296</td>\n",
       "      <td>286987</td>\n",
       "      <td>4</td>\n",
       "      <td>0</td>\n",
       "    </tr>\n",
       "    <tr>\n",
       "      <th>3</th>\n",
       "      <td>0.722</td>\n",
       "      <td>0.7360</td>\n",
       "      <td>3</td>\n",
       "      <td>-6.994</td>\n",
       "      <td>0</td>\n",
       "      <td>0.0585</td>\n",
       "      <td>0.431</td>\n",
       "      <td>0.000001</td>\n",
       "      <td>0.1230</td>\n",
       "      <td>0.5820</td>\n",
       "      <td>89.860</td>\n",
       "      <td>208920</td>\n",
       "      <td>4</td>\n",
       "      <td>1</td>\n",
       "    </tr>\n",
       "    <tr>\n",
       "      <th>4</th>\n",
       "      <td>0.787</td>\n",
       "      <td>0.5720</td>\n",
       "      <td>1</td>\n",
       "      <td>-7.516</td>\n",
       "      <td>1</td>\n",
       "      <td>0.2220</td>\n",
       "      <td>0.145</td>\n",
       "      <td>0.000000</td>\n",
       "      <td>0.0753</td>\n",
       "      <td>0.6470</td>\n",
       "      <td>155.117</td>\n",
       "      <td>179413</td>\n",
       "      <td>4</td>\n",
       "      <td>1</td>\n",
       "    </tr>\n",
       "  </tbody>\n",
       "</table>\n",
       "</div>"
      ],
      "text/plain": [
       "   danceability  energy  key  loudness  mode  speechiness  acousticness  \\\n",
       "0         0.803  0.6240    7    -6.764     0       0.0477         0.451   \n",
       "1         0.762  0.7030   10    -7.951     0       0.3060         0.206   \n",
       "2         0.261  0.0149    1   -27.528     1       0.0419         0.992   \n",
       "3         0.722  0.7360    3    -6.994     0       0.0585         0.431   \n",
       "4         0.787  0.5720    1    -7.516     1       0.2220         0.145   \n",
       "\n",
       "   instrumentalness  liveness  valence    tempo  duration_ms  time_signature  \\\n",
       "0          0.000734    0.1000   0.6280   95.968       304524               4   \n",
       "1          0.000000    0.0912   0.5190  151.329       247178               4   \n",
       "2          0.897000    0.1020   0.0382   75.296       286987               4   \n",
       "3          0.000001    0.1230   0.5820   89.860       208920               4   \n",
       "4          0.000000    0.0753   0.6470  155.117       179413               4   \n",
       "\n",
       "   liked  \n",
       "0      0  \n",
       "1      1  \n",
       "2      0  \n",
       "3      1  \n",
       "4      1  "
      ]
     },
     "execution_count": 5,
     "metadata": {},
     "output_type": "execute_result"
    }
   ],
   "source": [
    "MUSIC_df.head()"
   ]
  },
  {
   "cell_type": "code",
   "execution_count": 6,
   "id": "23f62e4b",
   "metadata": {
    "scrolled": false
   },
   "outputs": [
    {
     "data": {
      "text/html": [
       "<div>\n",
       "<style scoped>\n",
       "    .dataframe tbody tr th:only-of-type {\n",
       "        vertical-align: middle;\n",
       "    }\n",
       "\n",
       "    .dataframe tbody tr th {\n",
       "        vertical-align: top;\n",
       "    }\n",
       "\n",
       "    .dataframe thead th {\n",
       "        text-align: right;\n",
       "    }\n",
       "</style>\n",
       "<table border=\"1\" class=\"dataframe\">\n",
       "  <thead>\n",
       "    <tr style=\"text-align: right;\">\n",
       "      <th></th>\n",
       "      <th>danceability</th>\n",
       "      <th>energy</th>\n",
       "      <th>key</th>\n",
       "      <th>loudness</th>\n",
       "      <th>mode</th>\n",
       "      <th>speechiness</th>\n",
       "      <th>acousticness</th>\n",
       "      <th>instrumentalness</th>\n",
       "      <th>liveness</th>\n",
       "      <th>valence</th>\n",
       "      <th>tempo</th>\n",
       "      <th>duration_ms</th>\n",
       "      <th>time_signature</th>\n",
       "      <th>liked</th>\n",
       "    </tr>\n",
       "  </thead>\n",
       "  <tbody>\n",
       "    <tr>\n",
       "      <th>190</th>\n",
       "      <td>0.166</td>\n",
       "      <td>0.0551</td>\n",
       "      <td>9</td>\n",
       "      <td>-19.494</td>\n",
       "      <td>0</td>\n",
       "      <td>0.0520</td>\n",
       "      <td>0.9760</td>\n",
       "      <td>0.635000</td>\n",
       "      <td>0.1190</td>\n",
       "      <td>0.143</td>\n",
       "      <td>176.616</td>\n",
       "      <td>206520</td>\n",
       "      <td>3</td>\n",
       "      <td>0</td>\n",
       "    </tr>\n",
       "    <tr>\n",
       "      <th>191</th>\n",
       "      <td>0.862</td>\n",
       "      <td>0.6240</td>\n",
       "      <td>3</td>\n",
       "      <td>-11.630</td>\n",
       "      <td>1</td>\n",
       "      <td>0.0565</td>\n",
       "      <td>0.0192</td>\n",
       "      <td>0.000153</td>\n",
       "      <td>0.0465</td>\n",
       "      <td>0.882</td>\n",
       "      <td>124.896</td>\n",
       "      <td>254240</td>\n",
       "      <td>4</td>\n",
       "      <td>0</td>\n",
       "    </tr>\n",
       "    <tr>\n",
       "      <th>192</th>\n",
       "      <td>0.499</td>\n",
       "      <td>0.3510</td>\n",
       "      <td>9</td>\n",
       "      <td>-11.509</td>\n",
       "      <td>0</td>\n",
       "      <td>0.0448</td>\n",
       "      <td>0.9510</td>\n",
       "      <td>0.000099</td>\n",
       "      <td>0.1180</td>\n",
       "      <td>0.616</td>\n",
       "      <td>90.664</td>\n",
       "      <td>235947</td>\n",
       "      <td>4</td>\n",
       "      <td>0</td>\n",
       "    </tr>\n",
       "    <tr>\n",
       "      <th>193</th>\n",
       "      <td>0.574</td>\n",
       "      <td>0.7290</td>\n",
       "      <td>10</td>\n",
       "      <td>-5.838</td>\n",
       "      <td>0</td>\n",
       "      <td>0.0965</td>\n",
       "      <td>0.0406</td>\n",
       "      <td>0.000004</td>\n",
       "      <td>0.1940</td>\n",
       "      <td>0.413</td>\n",
       "      <td>110.547</td>\n",
       "      <td>190239</td>\n",
       "      <td>5</td>\n",
       "      <td>1</td>\n",
       "    </tr>\n",
       "    <tr>\n",
       "      <th>194</th>\n",
       "      <td>0.747</td>\n",
       "      <td>0.6660</td>\n",
       "      <td>11</td>\n",
       "      <td>-7.845</td>\n",
       "      <td>1</td>\n",
       "      <td>0.1970</td>\n",
       "      <td>0.1300</td>\n",
       "      <td>0.000000</td>\n",
       "      <td>0.3600</td>\n",
       "      <td>0.531</td>\n",
       "      <td>77.507</td>\n",
       "      <td>177213</td>\n",
       "      <td>4</td>\n",
       "      <td>1</td>\n",
       "    </tr>\n",
       "  </tbody>\n",
       "</table>\n",
       "</div>"
      ],
      "text/plain": [
       "     danceability  energy  key  loudness  mode  speechiness  acousticness  \\\n",
       "190         0.166  0.0551    9   -19.494     0       0.0520        0.9760   \n",
       "191         0.862  0.6240    3   -11.630     1       0.0565        0.0192   \n",
       "192         0.499  0.3510    9   -11.509     0       0.0448        0.9510   \n",
       "193         0.574  0.7290   10    -5.838     0       0.0965        0.0406   \n",
       "194         0.747  0.6660   11    -7.845     1       0.1970        0.1300   \n",
       "\n",
       "     instrumentalness  liveness  valence    tempo  duration_ms  \\\n",
       "190          0.635000    0.1190    0.143  176.616       206520   \n",
       "191          0.000153    0.0465    0.882  124.896       254240   \n",
       "192          0.000099    0.1180    0.616   90.664       235947   \n",
       "193          0.000004    0.1940    0.413  110.547       190239   \n",
       "194          0.000000    0.3600    0.531   77.507       177213   \n",
       "\n",
       "     time_signature  liked  \n",
       "190               3      0  \n",
       "191               4      0  \n",
       "192               4      0  \n",
       "193               5      1  \n",
       "194               4      1  "
      ]
     },
     "execution_count": 6,
     "metadata": {},
     "output_type": "execute_result"
    }
   ],
   "source": [
    "MUSIC_df.tail()"
   ]
  },
  {
   "cell_type": "code",
   "execution_count": 7,
   "id": "4a4d07d3",
   "metadata": {
    "scrolled": true
   },
   "outputs": [
    {
     "name": "stdout",
     "output_type": "stream",
     "text": [
      "<class 'pandas.core.frame.DataFrame'>\n",
      "RangeIndex: 195 entries, 0 to 194\n",
      "Data columns (total 14 columns):\n",
      " #   Column            Non-Null Count  Dtype  \n",
      "---  ------            --------------  -----  \n",
      " 0   danceability      195 non-null    float64\n",
      " 1   energy            195 non-null    float64\n",
      " 2   key               195 non-null    int64  \n",
      " 3   loudness          195 non-null    float64\n",
      " 4   mode              195 non-null    int64  \n",
      " 5   speechiness       195 non-null    float64\n",
      " 6   acousticness      195 non-null    float64\n",
      " 7   instrumentalness  195 non-null    float64\n",
      " 8   liveness          195 non-null    float64\n",
      " 9   valence           195 non-null    float64\n",
      " 10  tempo             195 non-null    float64\n",
      " 11  duration_ms       195 non-null    int64  \n",
      " 12  time_signature    195 non-null    int64  \n",
      " 13  liked             195 non-null    int64  \n",
      "dtypes: float64(9), int64(5)\n",
      "memory usage: 21.5 KB\n"
     ]
    }
   ],
   "source": [
    "MUSIC_df.info()"
   ]
  },
  {
   "cell_type": "code",
   "execution_count": 8,
   "id": "092600d8",
   "metadata": {
    "scrolled": true
   },
   "outputs": [
    {
     "data": {
      "text/html": [
       "<div>\n",
       "<style scoped>\n",
       "    .dataframe tbody tr th:only-of-type {\n",
       "        vertical-align: middle;\n",
       "    }\n",
       "\n",
       "    .dataframe tbody tr th {\n",
       "        vertical-align: top;\n",
       "    }\n",
       "\n",
       "    .dataframe thead th {\n",
       "        text-align: right;\n",
       "    }\n",
       "</style>\n",
       "<table border=\"1\" class=\"dataframe\">\n",
       "  <thead>\n",
       "    <tr style=\"text-align: right;\">\n",
       "      <th></th>\n",
       "      <th>danceability</th>\n",
       "      <th>energy</th>\n",
       "      <th>key</th>\n",
       "      <th>loudness</th>\n",
       "      <th>mode</th>\n",
       "      <th>speechiness</th>\n",
       "      <th>acousticness</th>\n",
       "      <th>instrumentalness</th>\n",
       "      <th>liveness</th>\n",
       "      <th>valence</th>\n",
       "      <th>tempo</th>\n",
       "      <th>duration_ms</th>\n",
       "      <th>time_signature</th>\n",
       "      <th>liked</th>\n",
       "    </tr>\n",
       "  </thead>\n",
       "  <tbody>\n",
       "    <tr>\n",
       "      <th>count</th>\n",
       "      <td>195.000000</td>\n",
       "      <td>195.000000</td>\n",
       "      <td>195.000000</td>\n",
       "      <td>195.000000</td>\n",
       "      <td>195.000000</td>\n",
       "      <td>195.000000</td>\n",
       "      <td>195.000000</td>\n",
       "      <td>195.000000</td>\n",
       "      <td>195.000000</td>\n",
       "      <td>195.000000</td>\n",
       "      <td>195.000000</td>\n",
       "      <td>195.000000</td>\n",
       "      <td>195.000000</td>\n",
       "      <td>195.000000</td>\n",
       "    </tr>\n",
       "    <tr>\n",
       "      <th>mean</th>\n",
       "      <td>0.636656</td>\n",
       "      <td>0.638431</td>\n",
       "      <td>5.497436</td>\n",
       "      <td>-9.481631</td>\n",
       "      <td>0.538462</td>\n",
       "      <td>0.148957</td>\n",
       "      <td>0.319093</td>\n",
       "      <td>0.192337</td>\n",
       "      <td>0.148455</td>\n",
       "      <td>0.493632</td>\n",
       "      <td>121.086174</td>\n",
       "      <td>213408.933333</td>\n",
       "      <td>3.912821</td>\n",
       "      <td>0.512821</td>\n",
       "    </tr>\n",
       "    <tr>\n",
       "      <th>std</th>\n",
       "      <td>0.216614</td>\n",
       "      <td>0.260096</td>\n",
       "      <td>3.415209</td>\n",
       "      <td>6.525086</td>\n",
       "      <td>0.499802</td>\n",
       "      <td>0.120414</td>\n",
       "      <td>0.320782</td>\n",
       "      <td>0.346226</td>\n",
       "      <td>0.105975</td>\n",
       "      <td>0.267695</td>\n",
       "      <td>28.084829</td>\n",
       "      <td>72152.392864</td>\n",
       "      <td>0.451332</td>\n",
       "      <td>0.501122</td>\n",
       "    </tr>\n",
       "    <tr>\n",
       "      <th>min</th>\n",
       "      <td>0.130000</td>\n",
       "      <td>0.002400</td>\n",
       "      <td>0.000000</td>\n",
       "      <td>-42.261000</td>\n",
       "      <td>0.000000</td>\n",
       "      <td>0.027800</td>\n",
       "      <td>0.000003</td>\n",
       "      <td>0.000000</td>\n",
       "      <td>0.033100</td>\n",
       "      <td>0.035300</td>\n",
       "      <td>60.171000</td>\n",
       "      <td>77203.000000</td>\n",
       "      <td>1.000000</td>\n",
       "      <td>0.000000</td>\n",
       "    </tr>\n",
       "    <tr>\n",
       "      <th>25%</th>\n",
       "      <td>0.462500</td>\n",
       "      <td>0.533500</td>\n",
       "      <td>2.000000</td>\n",
       "      <td>-9.962000</td>\n",
       "      <td>0.000000</td>\n",
       "      <td>0.056800</td>\n",
       "      <td>0.042200</td>\n",
       "      <td>0.000000</td>\n",
       "      <td>0.084000</td>\n",
       "      <td>0.269000</td>\n",
       "      <td>100.242000</td>\n",
       "      <td>178300.500000</td>\n",
       "      <td>4.000000</td>\n",
       "      <td>0.000000</td>\n",
       "    </tr>\n",
       "    <tr>\n",
       "      <th>50%</th>\n",
       "      <td>0.705000</td>\n",
       "      <td>0.659000</td>\n",
       "      <td>6.000000</td>\n",
       "      <td>-7.766000</td>\n",
       "      <td>1.000000</td>\n",
       "      <td>0.096200</td>\n",
       "      <td>0.213000</td>\n",
       "      <td>0.000008</td>\n",
       "      <td>0.105000</td>\n",
       "      <td>0.525000</td>\n",
       "      <td>124.896000</td>\n",
       "      <td>204000.000000</td>\n",
       "      <td>4.000000</td>\n",
       "      <td>1.000000</td>\n",
       "    </tr>\n",
       "    <tr>\n",
       "      <th>75%</th>\n",
       "      <td>0.799000</td>\n",
       "      <td>0.837500</td>\n",
       "      <td>8.000000</td>\n",
       "      <td>-5.829000</td>\n",
       "      <td>1.000000</td>\n",
       "      <td>0.230500</td>\n",
       "      <td>0.504000</td>\n",
       "      <td>0.097500</td>\n",
       "      <td>0.177000</td>\n",
       "      <td>0.717500</td>\n",
       "      <td>142.460500</td>\n",
       "      <td>242373.500000</td>\n",
       "      <td>4.000000</td>\n",
       "      <td>1.000000</td>\n",
       "    </tr>\n",
       "    <tr>\n",
       "      <th>max</th>\n",
       "      <td>0.946000</td>\n",
       "      <td>0.996000</td>\n",
       "      <td>11.000000</td>\n",
       "      <td>-2.336000</td>\n",
       "      <td>1.000000</td>\n",
       "      <td>0.540000</td>\n",
       "      <td>0.995000</td>\n",
       "      <td>0.969000</td>\n",
       "      <td>0.633000</td>\n",
       "      <td>0.980000</td>\n",
       "      <td>180.036000</td>\n",
       "      <td>655213.000000</td>\n",
       "      <td>5.000000</td>\n",
       "      <td>1.000000</td>\n",
       "    </tr>\n",
       "  </tbody>\n",
       "</table>\n",
       "</div>"
      ],
      "text/plain": [
       "       danceability      energy         key    loudness        mode  \\\n",
       "count    195.000000  195.000000  195.000000  195.000000  195.000000   \n",
       "mean       0.636656    0.638431    5.497436   -9.481631    0.538462   \n",
       "std        0.216614    0.260096    3.415209    6.525086    0.499802   \n",
       "min        0.130000    0.002400    0.000000  -42.261000    0.000000   \n",
       "25%        0.462500    0.533500    2.000000   -9.962000    0.000000   \n",
       "50%        0.705000    0.659000    6.000000   -7.766000    1.000000   \n",
       "75%        0.799000    0.837500    8.000000   -5.829000    1.000000   \n",
       "max        0.946000    0.996000   11.000000   -2.336000    1.000000   \n",
       "\n",
       "       speechiness  acousticness  instrumentalness    liveness     valence  \\\n",
       "count   195.000000    195.000000        195.000000  195.000000  195.000000   \n",
       "mean      0.148957      0.319093          0.192337    0.148455    0.493632   \n",
       "std       0.120414      0.320782          0.346226    0.105975    0.267695   \n",
       "min       0.027800      0.000003          0.000000    0.033100    0.035300   \n",
       "25%       0.056800      0.042200          0.000000    0.084000    0.269000   \n",
       "50%       0.096200      0.213000          0.000008    0.105000    0.525000   \n",
       "75%       0.230500      0.504000          0.097500    0.177000    0.717500   \n",
       "max       0.540000      0.995000          0.969000    0.633000    0.980000   \n",
       "\n",
       "            tempo    duration_ms  time_signature       liked  \n",
       "count  195.000000     195.000000      195.000000  195.000000  \n",
       "mean   121.086174  213408.933333        3.912821    0.512821  \n",
       "std     28.084829   72152.392864        0.451332    0.501122  \n",
       "min     60.171000   77203.000000        1.000000    0.000000  \n",
       "25%    100.242000  178300.500000        4.000000    0.000000  \n",
       "50%    124.896000  204000.000000        4.000000    1.000000  \n",
       "75%    142.460500  242373.500000        4.000000    1.000000  \n",
       "max    180.036000  655213.000000        5.000000    1.000000  "
      ]
     },
     "execution_count": 8,
     "metadata": {},
     "output_type": "execute_result"
    }
   ],
   "source": [
    "MUSIC_df.describe()"
   ]
  },
  {
   "cell_type": "code",
   "execution_count": 9,
   "id": "76737a4b",
   "metadata": {},
   "outputs": [
    {
     "data": {
      "text/plain": [
       "(195, 14)"
      ]
     },
     "execution_count": 9,
     "metadata": {},
     "output_type": "execute_result"
    }
   ],
   "source": [
    "MUSIC_df.shape"
   ]
  },
  {
   "cell_type": "code",
   "execution_count": 10,
   "id": "262d67c6",
   "metadata": {},
   "outputs": [
    {
     "data": {
      "text/plain": [
       "danceability        0\n",
       "energy              0\n",
       "key                 0\n",
       "loudness            0\n",
       "mode                0\n",
       "speechiness         0\n",
       "acousticness        0\n",
       "instrumentalness    0\n",
       "liveness            0\n",
       "valence             0\n",
       "tempo               0\n",
       "duration_ms         0\n",
       "time_signature      0\n",
       "liked               0\n",
       "dtype: int64"
      ]
     },
     "execution_count": 10,
     "metadata": {},
     "output_type": "execute_result"
    }
   ],
   "source": [
    "MUSIC_df.isnull().sum()"
   ]
  },
  {
   "cell_type": "code",
   "execution_count": 11,
   "id": "ceb0fcae",
   "metadata": {},
   "outputs": [
    {
     "data": {
      "text/plain": [
       "1    100\n",
       "0     95\n",
       "Name: liked, dtype: int64"
      ]
     },
     "execution_count": 11,
     "metadata": {},
     "output_type": "execute_result"
    }
   ],
   "source": [
    "MUSIC_df['liked'].value_counts()"
   ]
  },
  {
   "cell_type": "markdown",
   "id": "40f144dd",
   "metadata": {},
   "source": [
    "# Data Pre-Processing\n",
    "## Creating Train & Test sets"
   ]
  },
  {
   "cell_type": "code",
   "execution_count": 12,
   "id": "b9101696",
   "metadata": {},
   "outputs": [],
   "source": [
    "X = MUSIC_df.drop('liked' , axis = 1)\n",
    "y = MUSIC_df['liked']"
   ]
  },
  {
   "cell_type": "code",
   "execution_count": 13,
   "id": "f292f035",
   "metadata": {},
   "outputs": [],
   "source": [
    "from sklearn.model_selection import train_test_split\n",
    "from sklearn.metrics import accuracy_score , roc_auc_score , confusion_matrix"
   ]
  },
  {
   "cell_type": "code",
   "execution_count": 14,
   "id": "eac06a1a",
   "metadata": {},
   "outputs": [],
   "source": [
    "X_train , X_test , y_train , y_test = train_test_split(X , y , test_size=0.3)"
   ]
  },
  {
   "cell_type": "code",
   "execution_count": 15,
   "id": "5840d749",
   "metadata": {},
   "outputs": [
    {
     "name": "stdout",
     "output_type": "stream",
     "text": [
      "the shapes of x-train and x-test are :  (136, 13) (59, 13)\n",
      "the shapes of y-train and y-test are :  (136,) (59,)\n"
     ]
    }
   ],
   "source": [
    "print(\"the shapes of x-train and x-test are : \" , X_train.shape , X_test.shape)\n",
    "print(\"the shapes of y-train and y-test are : \" , y_train.shape , y_test.shape)"
   ]
  },
  {
   "cell_type": "code",
   "execution_count": 18,
   "id": "2ba9aaf5",
   "metadata": {},
   "outputs": [
    {
     "data": {
      "text/plain": [
       "Text(0.5, 1.0, 'Correlation HeatMap')"
      ]
     },
     "execution_count": 18,
     "metadata": {},
     "output_type": "execute_result"
    },
    {
     "data": {
      "image/png": "[encoded data removed]",
      "text/plain": [
       "<Figure size 1440x576 with 2 Axes>"
      ]
     },
     "metadata": {
      "needs_background": "light"
     },
     "output_type": "display_data"
    }
   ],
   "source": [
    "plt.figure(figsize=(20,8))\n",
    "heatmap = sns.heatmap(MUSIC_df.corr() , vmin=-1 , vmax=1 ,annot=True , cmap='BrBG')\n",
    "heatmap.set_title('Correlation HeatMap' , fontdict = {'fontsize' : 18} , pad=12)"
   ]
  },
  {
   "cell_type": "markdown",
   "id": "c5d005dc",
   "metadata": {},
   "source": [
    "# Building ML Models\n",
    "## Decision Tree Classifier"
   ]
  },
  {
   "cell_type": "code",
   "execution_count": 19,
   "id": "7b646aaf",
   "metadata": {},
   "outputs": [],
   "source": [
    "from sklearn.tree import DecisionTreeClassifier , plot_tree"
   ]
  },
  {
   "cell_type": "code",
   "execution_count": 20,
   "id": "39dc58be",
   "metadata": {},
   "outputs": [],
   "source": [
    "dt_clf = DecisionTreeClassifier()"
   ]
  },
  {
   "cell_type": "code",
   "execution_count": 21,
   "id": "c950e7b7",
   "metadata": {},
   "outputs": [
    {
     "data": {
      "text/plain": [
       "DecisionTreeClassifier()"
      ]
     },
     "execution_count": 21,
     "metadata": {},
     "output_type": "execute_result"
    }
   ],
   "source": [
    "dt_clf.fit(X_train , y_train)"
   ]
  },
  {
   "cell_type": "code",
   "execution_count": 22,
   "id": "4a449535",
   "metadata": {},
   "outputs": [],
   "source": [
    "y_preds_dt = dt_clf.predict(X_test)"
   ]
  },
  {
   "cell_type": "code",
   "execution_count": 23,
   "id": "4e866d97",
   "metadata": {},
   "outputs": [
    {
     "name": "stdout",
     "output_type": "stream",
     "text": [
      "Accuracy Score of the Decision Tree Model 0.8135593220338984\n",
      "ROC AUC score of the Decision Tree Model is :  0.8315217391304349\n"
     ]
    }
   ],
   "source": [
    "print(\"Accuracy Score of the Decision Tree Model\" , accuracy_score(y_test , y_preds_dt))\n",
    "print(\"ROC AUC score of the Decision Tree Model is : \" , roc_auc_score(y_test , y_preds_dt))"
   ]
  },
  {
   "cell_type": "code",
   "execution_count": 24,
   "id": "2f02d171",
   "metadata": {},
   "outputs": [
    {
     "data": {
      "text/plain": [
       "Text(0.5, 1.0, 'Confusin Matrix Of Decision Tree Model')"
      ]
     },
     "execution_count": 24,
     "metadata": {},
     "output_type": "execute_result"
    },
    {
     "data": {
      "image/png": "[encoded data removed]",
      "text/plain": [
       "<Figure size 720x504 with 2 Axes>"
      ]
     },
     "metadata": {
      "needs_background": "light"
     },
     "output_type": "display_data"
    }
   ],
   "source": [
    "#confusion Matrix of Decision Tree Model \n",
    "cm  = confusion_matrix(y_test , y_preds_dt)\n",
    "\n",
    "x_axis_labels = [\"Yes\" , \"No\"]\n",
    "y_axis_labels = [\"Yes\" , \"No\"]\n",
    "\n",
    "f , ax = plt.subplots(figsize=(10,7))\n",
    "sns.heatmap(cm , annot=True, linewidths=0.2 , linecolor=\"black\" , fmt=\".0f\" , ax=ax , cmap=\"Greens\" , \n",
    "           xticklabels=x_axis_labels , yticklabels=y_axis_labels)\n",
    "plt.xlabel(\"PREDICTED LABEL\")\n",
    "plt.ylabel(\"TRUE LABEL\")\n",
    "plt.title(\"Confusin Matrix Of Decision Tree Model\")"
   ]
  },
  {
   "cell_type": "markdown",
   "id": "9414af0d",
   "metadata": {},
   "source": [
    "# Ensemble Models\n",
    "## Random Forest Classifier"
   ]
  },
  {
   "cell_type": "code",
   "execution_count": 25,
   "id": "ed514363",
   "metadata": {},
   "outputs": [],
   "source": [
    "from sklearn.ensemble import RandomForestClassifier , ExtraTreesClassifier , BaggingClassifier , AdaBoostClassifier"
   ]
  },
  {
   "cell_type": "code",
   "execution_count": 26,
   "id": "d5212a28",
   "metadata": {},
   "outputs": [],
   "source": [
    "rf_clf = RandomForestClassifier(n_estimators=100)\n",
    "extratree_clf = ExtraTreesClassifier(n_estimators=100)\n",
    "bg_clf = BaggingClassifier(n_estimators=100)\n",
    "ada_clf = AdaBoostClassifier(n_estimators=100)"
   ]
  },
  {
   "cell_type": "code",
   "execution_count": 27,
   "id": "3358be68",
   "metadata": {},
   "outputs": [
    {
     "data": {
      "text/plain": [
       "AdaBoostClassifier(n_estimators=100)"
      ]
     },
     "execution_count": 27,
     "metadata": {},
     "output_type": "execute_result"
    }
   ],
   "source": [
    "rf_clf.fit(X_train , y_train)\n",
    "extratree_clf.fit(X_train , y_train)\n",
    "bg_clf.fit(X_train , y_train)\n",
    "ada_clf.fit(X_train , y_train)"
   ]
  },
  {
   "cell_type": "code",
   "execution_count": 28,
   "id": "72ae2db8",
   "metadata": {},
   "outputs": [],
   "source": [
    "y_preds_rf = rf_clf.predict(X_test)\n",
    "y_preds_et = extratree_clf.predict(X_test)\n",
    "y_preds_bg = bg_clf.predict(X_test)\n",
    "y_preds_ada = ada_clf.predict(X_test)"
   ]
  },
  {
   "cell_type": "code",
   "execution_count": 29,
   "id": "1bca939e",
   "metadata": {},
   "outputs": [
    {
     "name": "stdout",
     "output_type": "stream",
     "text": [
      "Accuracy Score of the Random Forest Model 0.8813559322033898\n",
      "Accuracy Score of the Extre Tree Classifier Model 0.9152542372881356\n",
      "Accuracy Score of the Bagging Classifier Model 0.864406779661017\n",
      "Accuracy Score of the AdaBoost Classifier Model 0.8813559322033898\n"
     ]
    }
   ],
   "source": [
    "print(\"Accuracy Score of the Random Forest Model\", accuracy_score(y_test, y_preds_rf))\n",
    "print(\"Accuracy Score of the Extre Tree Classifier Model\", accuracy_score(y_test, y_preds_et))\n",
    "print(\"Accuracy Score of the Bagging Classifier Model\", accuracy_score(y_test, y_preds_bg))\n",
    "print(\"Accuracy Score of the AdaBoost Classifier Model\", accuracy_score(y_test, y_preds_ada))"
   ]
  },
  {
   "cell_type": "code",
   "execution_count": 30,
   "id": "57c83356",
   "metadata": {},
   "outputs": [
    {
     "name": "stdout",
     "output_type": "stream",
     "text": [
      "ROC AUC Score of the Random Forest Model 0.8870772946859904\n",
      "ROC AUC Score of the Extre Tree Classifier Model 0.9148550724637681\n",
      "ROC AUC Score of the Bagging Classifier Model 0.8653381642512078\n",
      "ROC AUC Score of the AdaBoost Classifier Model 0.8870772946859904\n"
     ]
    }
   ],
   "source": [
    "print(\"ROC AUC Score of the Random Forest Model\", roc_auc_score(y_test, y_preds_rf))\n",
    "print(\"ROC AUC Score of the Extre Tree Classifier Model\", roc_auc_score(y_test, y_preds_et))\n",
    "print(\"ROC AUC Score of the Bagging Classifier Model\", roc_auc_score(y_test, y_preds_bg))\n",
    "print(\"ROC AUC Score of the AdaBoost Classifier Model\", roc_auc_score(y_test, y_preds_ada))"
   ]
  },
  {
   "cell_type": "code",
   "execution_count": 31,
   "id": "e91f000c",
   "metadata": {},
   "outputs": [
    {
     "data": {
      "text/plain": [
       "Text(0.5, 1.0, 'Confusion Matrix for Random Forest Classifier Model')"
      ]
     },
     "execution_count": 31,
     "metadata": {},
     "output_type": "execute_result"
    },
    {
     "data": {
      "image/png": "[encoded data removed]",
      "text/plain": [
       "<Figure size 720x504 with 2 Axes>"
      ]
     },
     "metadata": {
      "needs_background": "light"
     },
     "output_type": "display_data"
    }
   ],
   "source": [
    "#Confusion Matrix of Random Forest Classifier Model.\n",
    "cm = confusion_matrix(y_test, y_preds_rf)\n",
    "\n",
    "x_axis_labels = [\"Yes\", \"No\"]\n",
    "y_axis_labels = [\"Yes\", \"No\"]\n",
    "\n",
    "f, ax = plt.subplots(figsize =(10,7))\n",
    "sns.heatmap(cm, annot = True, linewidths=0.2, linecolor=\"black\", fmt = \".0f\", ax=ax, cmap=\"Greens\", \n",
    "            xticklabels=x_axis_labels, yticklabels=y_axis_labels)\n",
    "plt.xlabel(\"PREDICTED LABEL\")\n",
    "plt.ylabel(\"TRUE LABEL\")\n",
    "plt.title('Confusion Matrix for Random Forest Classifier Model')"
   ]
  },
  {
   "cell_type": "code",
   "execution_count": 32,
   "id": "b1e9f11b",
   "metadata": {},
   "outputs": [
    {
     "data": {
      "text/plain": [
       "Text(0.5, 1.0, 'Confusion Matrix for Extra Tree Classifier Model')"
      ]
     },
     "execution_count": 32,
     "metadata": {},
     "output_type": "execute_result"
    },
    {
     "data": {
      "image/png": "[encoded data removed]",
      "text/plain": [
       "<Figure size 720x504 with 2 Axes>"
      ]
     },
     "metadata": {
      "needs_background": "light"
     },
     "output_type": "display_data"
    }
   ],
   "source": [
    "#Confusion Matrix of Extra Tree Classifier Model.\n",
    "cm = confusion_matrix(y_test, y_preds_et)\n",
    "\n",
    "x_axis_labels = [\"Yes\", \"No\"]\n",
    "y_axis_labels = [\"Yes\", \"No\"]\n",
    "\n",
    "f, ax = plt.subplots(figsize =(10,7))\n",
    "sns.heatmap(cm, annot = True, linewidths=0.2, linecolor=\"black\", fmt = \".0f\", ax=ax, cmap=\"Greens\", \n",
    "            xticklabels=x_axis_labels, yticklabels=y_axis_labels)\n",
    "plt.xlabel(\"PREDICTED LABEL\")\n",
    "plt.ylabel(\"TRUE LABEL\")\n",
    "plt.title('Confusion Matrix for Extra Tree Classifier Model')"
   ]
  },
  {
   "cell_type": "code",
   "execution_count": 33,
   "id": "c4c2d0f5",
   "metadata": {
    "scrolled": true
   },
   "outputs": [
    {
     "data": {
      "text/plain": [
       "Text(0.5, 1.0, 'Confusion Matrix for Bagging Classifier Model')"
      ]
     },
     "execution_count": 33,
     "metadata": {},
     "output_type": "execute_result"
    },
    {
     "data": {
      "image/png": "[encoded data removed]",
      "text/plain": [
       "<Figure size 720x504 with 2 Axes>"
      ]
     },
     "metadata": {
      "needs_background": "light"
     },
     "output_type": "display_data"
    }
   ],
   "source": [
    "#Confusion Matrix of Bagging Classifier Model.\n",
    "cm = confusion_matrix(y_test, y_preds_bg)\n",
    "\n",
    "x_axis_labels = [\"Yes\", \"No\"]\n",
    "y_axis_labels = [\"Yes\", \"No\"]\n",
    "\n",
    "f, ax = plt.subplots(figsize =(10,7))\n",
    "sns.heatmap(cm, annot = True, linewidths=0.2, linecolor=\"black\", fmt = \".0f\", ax=ax, cmap=\"Greens\", \n",
    "            xticklabels=x_axis_labels, yticklabels=y_axis_labels)\n",
    "plt.xlabel(\"PREDICTED LABEL\")\n",
    "plt.ylabel(\"TRUE LABEL\")\n",
    "plt.title('Confusion Matrix for Bagging Classifier Model')"
   ]
  },
  {
   "cell_type": "code",
   "execution_count": 42,
   "id": "adf14366",
   "metadata": {
    "scrolled": true
   },
   "outputs": [
    {
     "data": {
      "text/plain": [
       "Text(0.5, 1.0, 'Confusion Matrix for AdaBoost Classifier Model')"
      ]
     },
     "execution_count": 42,
     "metadata": {},
     "output_type": "execute_result"
    },
    {
     "data": {
      "image/png": "[encoded data removed]",
      "text/plain": [
       "<Figure size 720x504 with 2 Axes>"
      ]
     },
     "metadata": {
      "needs_background": "light"
     },
     "output_type": "display_data"
    }
   ],
   "source": [
    "#Confusion Matrix of AdaBoost Classifier Model.\n",
    "cm = confusion_matrix(y_test, y_preds_ada)\n",
    "\n",
    "x_axis_labels = [\"Yes\", \"No\"]\n",
    "y_axis_labels = [\"Yes\", \"No\"]\n",
    "\n",
    "f, ax = plt.subplots(figsize =(10,7))\n",
    "sns.heatmap(cm, annot = True, linewidths=0.2, linecolor=\"black\", fmt = \".0f\", ax=ax, cmap=\"Greens\", \n",
    "            xticklabels=x_axis_labels, yticklabels=y_axis_labels)\n",
    "plt.xlabel(\"PREDICTED LABEL\")\n",
    "plt.ylabel(\"TRUE LABEL\")\n",
    "plt.title('Confusion Matrix for AdaBoost Classifier Model')"
   ]
  },
  {
   "cell_type": "markdown",
   "id": "8b0469b4",
   "metadata": {},
   "source": [
    "## LGBM Classifier"
   ]
  },
  {
   "cell_type": "code",
   "execution_count": 35,
   "id": "ffbfdedd",
   "metadata": {},
   "outputs": [
    {
     "name": "stdout",
     "output_type": "stream",
     "text": [
      "Requirement already satisfied: lightgbm in c:\\users\\nidiy\\anaconda3\\lib\\site-packages (3.3.2)\n",
      "Requirement already satisfied: numpy in c:\\users\\nidiy\\anaconda3\\lib\\site-packages (from lightgbm) (1.20.3)\n",
      "Requirement already satisfied: scikit-learn!=0.22.0 in c:\\users\\nidiy\\anaconda3\\lib\\site-packages (from lightgbm) (0.24.2)\n",
      "Requirement already satisfied: scipy in c:\\users\\nidiy\\anaconda3\\lib\\site-packages (from lightgbm) (1.7.1)\n",
      "Requirement already satisfied: wheel in c:\\users\\nidiy\\anaconda3\\lib\\site-packages (from lightgbm) (0.37.0)\n",
      "Requirement already satisfied: joblib>=0.11 in c:\\users\\nidiy\\anaconda3\\lib\\site-packages (from scikit-learn!=0.22.0->lightgbm) (1.1.0)\n",
      "Requirement already satisfied: threadpoolctl>=2.0.0 in c:\\users\\nidiy\\anaconda3\\lib\\site-packages (from scikit-learn!=0.22.0->lightgbm) (2.2.0)\n",
      "Note: you may need to restart the kernel to use updated packages.\n"
     ]
    }
   ],
   "source": [
    "pip install lightgbm"
   ]
  },
  {
   "cell_type": "code",
   "execution_count": 36,
   "id": "40211d68",
   "metadata": {},
   "outputs": [],
   "source": [
    "from lightgbm import LGBMClassifier"
   ]
  },
  {
   "cell_type": "code",
   "execution_count": 37,
   "id": "b174d6bf",
   "metadata": {},
   "outputs": [],
   "source": [
    "lgbm_clf = LGBMClassifier()"
   ]
  },
  {
   "cell_type": "code",
   "execution_count": 38,
   "id": "9f102d26",
   "metadata": {},
   "outputs": [
    {
     "data": {
      "text/plain": [
       "LGBMClassifier()"
      ]
     },
     "execution_count": 38,
     "metadata": {},
     "output_type": "execute_result"
    }
   ],
   "source": [
    "lgbm_clf.fit(X_train , y_train)"
   ]
  },
  {
   "cell_type": "code",
   "execution_count": 39,
   "id": "f7487fe1",
   "metadata": {},
   "outputs": [],
   "source": [
    "y_preds_lgbm = lgbm_clf.predict(X_test)"
   ]
  },
  {
   "cell_type": "code",
   "execution_count": 40,
   "id": "2973ad73",
   "metadata": {},
   "outputs": [
    {
     "name": "stdout",
     "output_type": "stream",
     "text": [
      "Accuracy Score of the LGBM Model 0.8813559322033898\n",
      "ROC AUC Score of the LGBM Model 0.8870772946859904\n"
     ]
    }
   ],
   "source": [
    "print(\"Accuracy Score of the LGBM Model\", accuracy_score(y_test, y_preds_lgbm))\n",
    "print(\"ROC AUC Score of the LGBM Model\", roc_auc_score(y_test, y_preds_lgbm))"
   ]
  },
  {
   "cell_type": "code",
   "execution_count": 41,
   "id": "5d756bcb",
   "metadata": {},
   "outputs": [
    {
     "data": {
      "text/plain": [
       "Text(0.5, 1.0, 'Confusion Matrix for LGBM Classifier Model')"
      ]
     },
     "execution_count": 41,
     "metadata": {},
     "output_type": "execute_result"
    },
    {
     "data": {
      "image/png": "[encoded data removed]",
      "text/plain": [
       "<Figure size 720x504 with 2 Axes>"
      ]
     },
     "metadata": {
      "needs_background": "light"
     },
     "output_type": "display_data"
    }
   ],
   "source": [
    "#Confusion Matrix of LGBM Classifier Model.\n",
    "cm = confusion_matrix(y_test, y_preds_lgbm)\n",
    "\n",
    "x_axis_labels = [\"Yes\", \"No\"]\n",
    "y_axis_labels = [\"Yes\", \"No\"]\n",
    "\n",
    "f, ax = plt.subplots(figsize =(10,7))\n",
    "sns.heatmap(cm, annot = True, linewidths=0.2, linecolor=\"black\", fmt = \".0f\", ax=ax, cmap=\"Greens\", \n",
    "            xticklabels=x_axis_labels, yticklabels=y_axis_labels)\n",
    "plt.xlabel(\"PREDICTED LABEL\")\n",
    "plt.ylabel(\"TRUE LABEL\")\n",
    "plt.title('Confusion Matrix for LGBM Classifier Model')"
   ]
  },
  {
   "cell_type": "code",
   "execution_count": 44,
   "id": "a71fb6e6",
   "metadata": {},
   "outputs": [
    {
     "name": "stdout",
     "output_type": "stream",
     "text": [
      "Collecting logmodel\n",
      "  Downloading logModel-0.0.1.tar.gz (1.4 kB)\n",
      "  Preparing metadata (setup.py): started\n",
      "  Preparing metadata (setup.py): finished with status 'done'\n",
      "Building wheels for collected packages: logmodel\n",
      "  Building wheel for logmodel (setup.py): started\n",
      "  Building wheel for logmodel (setup.py): finished with status 'done'\n",
      "  Created wheel for logmodel: filename=logModel-0.0.1-py3-none-any.whl size=2071 sha256=ed8bf4aa8c0f461ed1011321f1e6fd8ce9663f44db2ddb6384df4a970315f497\n",
      "  Stored in directory: c:\\users\\nidiy\\appdata\\local\\pip\\cache\\wheels\\e2\\2d\\45\\75e7b55e9b1ab158183bb04797f4f9dc60853b150044bff37f\n",
      "Successfully built logmodel\n",
      "Installing collected packages: logmodel\n",
      "Successfully installed logmodel-0.0.1\n",
      "Note: you may need to restart the kernel to use updated packages.\n"
     ]
    }
   ],
   "source": [
    "pip install logmodel"
   ]
  },
  {
   "cell_type": "markdown",
   "id": "9e3d6e05",
   "metadata": {},
   "source": [
    "## Predictions and Evaluations "
   ]
  },
  {
   "cell_type": "code",
   "execution_count": 49,
   "id": "9ef4d222",
   "metadata": {},
   "outputs": [],
   "source": [
    "from sklearn.metrics import classification_report"
   ]
  },
  {
   "cell_type": "code",
   "execution_count": 51,
   "id": "ac82245b",
   "metadata": {},
   "outputs": [
    {
     "name": "stdout",
     "output_type": "stream",
     "text": [
      "              precision    recall  f1-score   support\n",
      "\n",
      "           0       0.81      0.91      0.86        23\n",
      "           1       0.94      0.86      0.90        36\n",
      "\n",
      "    accuracy                           0.88        59\n",
      "   macro avg       0.87      0.89      0.88        59\n",
      "weighted avg       0.89      0.88      0.88        59\n",
      "\n"
     ]
    }
   ],
   "source": [
    "print(classification_report(y_test,y_preds_lgbm))"
   ]
  },
  {
   "cell_type": "code",
   "execution_count": null,
   "id": "20bb4322",
   "metadata": {},
   "outputs": [],
   "source": []
  }
 ],
 "metadata": {
  "kernelspec": {
   "display_name": "Python 3 (ipykernel)",
   "language": "python",
   "name": "python3"
  },
  "language_info": {
   "codemirror_mode": {
    "name": "ipython",
    "version": 3
   },
   "file_extension": ".py",
   "mimetype": "text/x-python",
   "name": "python",
   "nbconvert_exporter": "python",
   "pygments_lexer": "ipython3",
   "version": "3.9.7"
  }
 },
 "nbformat": 4,
 "nbformat_minor": 5
}
